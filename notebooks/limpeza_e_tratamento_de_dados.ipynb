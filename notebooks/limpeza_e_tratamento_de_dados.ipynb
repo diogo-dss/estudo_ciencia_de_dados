{
 "cells": [
  {
   "cell_type": "markdown",
   "id": "14bbab88-eb09-4367-880b-ab7fed9cef2a",
   "metadata": {},
   "source": [
    "Limpeza e Tratamento dos dados de uma instituição financeira para a posterior criação de um modelo de churn análise.\n",
    "\n",
    "Regras do négocio:\n",
    "1) O banco atende apenas aos estados da região sul do Brasil;\n",
    "2) Os clientes devem ter no mínimo 18 anos para terem uma conta no banco;"
   ]
  },
  {
   "cell_type": "code",
   "execution_count": 40,
   "id": "8178bb39-efd4-40a1-a892-b10e75203ae1",
   "metadata": {},
   "outputs": [],
   "source": [
    "#Primeiro importação de bibliotecas necessárias\n",
    "\n",
    "import pandas as pd\n",
    "import seaborn as sbn\n",
    "import statistics as sts\n",
    "import matplotlib.pyplot as plt"
   ]
  },
  {
   "cell_type": "code",
   "execution_count": 12,
   "id": "450e8ff9-0f9c-4d72-b65e-dee9a7db7d6d",
   "metadata": {},
   "outputs": [
    {
     "data": {
      "text/html": [
       "<div>\n",
       "<style scoped>\n",
       "    .dataframe tbody tr th:only-of-type {\n",
       "        vertical-align: middle;\n",
       "    }\n",
       "\n",
       "    .dataframe tbody tr th {\n",
       "        vertical-align: top;\n",
       "    }\n",
       "\n",
       "    .dataframe thead th {\n",
       "        text-align: right;\n",
       "    }\n",
       "</style>\n",
       "<table border=\"1\" class=\"dataframe\">\n",
       "  <thead>\n",
       "    <tr style=\"text-align: right;\">\n",
       "      <th></th>\n",
       "      <th>X0</th>\n",
       "      <th>X1</th>\n",
       "      <th>X2</th>\n",
       "      <th>X3</th>\n",
       "      <th>X4</th>\n",
       "      <th>X4.1</th>\n",
       "      <th>X6</th>\n",
       "      <th>X7</th>\n",
       "      <th>X8</th>\n",
       "      <th>X9</th>\n",
       "      <th>X10</th>\n",
       "      <th>X11</th>\n",
       "    </tr>\n",
       "  </thead>\n",
       "  <tbody>\n",
       "    <tr>\n",
       "      <th>0</th>\n",
       "      <td>1</td>\n",
       "      <td>619</td>\n",
       "      <td>RS</td>\n",
       "      <td>Feminino</td>\n",
       "      <td>42</td>\n",
       "      <td>2</td>\n",
       "      <td>0</td>\n",
       "      <td>1</td>\n",
       "      <td>1</td>\n",
       "      <td>1</td>\n",
       "      <td>10134888.0</td>\n",
       "      <td>1</td>\n",
       "    </tr>\n",
       "    <tr>\n",
       "      <th>1</th>\n",
       "      <td>2</td>\n",
       "      <td>608</td>\n",
       "      <td>SC</td>\n",
       "      <td>Feminino</td>\n",
       "      <td>41</td>\n",
       "      <td>1</td>\n",
       "      <td>8380786</td>\n",
       "      <td>1</td>\n",
       "      <td>0</td>\n",
       "      <td>1</td>\n",
       "      <td>11254258.0</td>\n",
       "      <td>0</td>\n",
       "    </tr>\n",
       "    <tr>\n",
       "      <th>2</th>\n",
       "      <td>3</td>\n",
       "      <td>502</td>\n",
       "      <td>RS</td>\n",
       "      <td>Feminino</td>\n",
       "      <td>42</td>\n",
       "      <td>8</td>\n",
       "      <td>1596608</td>\n",
       "      <td>3</td>\n",
       "      <td>1</td>\n",
       "      <td>0</td>\n",
       "      <td>11393157.0</td>\n",
       "      <td>1</td>\n",
       "    </tr>\n",
       "    <tr>\n",
       "      <th>3</th>\n",
       "      <td>4</td>\n",
       "      <td>699</td>\n",
       "      <td>RS</td>\n",
       "      <td>Feminino</td>\n",
       "      <td>39</td>\n",
       "      <td>1</td>\n",
       "      <td>0</td>\n",
       "      <td>2</td>\n",
       "      <td>0</td>\n",
       "      <td>0</td>\n",
       "      <td>9382663.0</td>\n",
       "      <td>0</td>\n",
       "    </tr>\n",
       "    <tr>\n",
       "      <th>4</th>\n",
       "      <td>5</td>\n",
       "      <td>850</td>\n",
       "      <td>SC</td>\n",
       "      <td>Feminino</td>\n",
       "      <td>43</td>\n",
       "      <td>2</td>\n",
       "      <td>12551082</td>\n",
       "      <td>1</td>\n",
       "      <td>1</td>\n",
       "      <td>1</td>\n",
       "      <td>790841.0</td>\n",
       "      <td>0</td>\n",
       "    </tr>\n",
       "  </tbody>\n",
       "</table>\n",
       "</div>"
      ],
      "text/plain": [
       "   X0   X1  X2        X3  X4  X4.1        X6  X7  X8  X9         X10  X11\n",
       "0   1  619  RS  Feminino  42     2         0   1   1   1  10134888.0    1\n",
       "1   2  608  SC  Feminino  41     1   8380786   1   0   1  11254258.0    0\n",
       "2   3  502  RS  Feminino  42     8   1596608   3   1   0  11393157.0    1\n",
       "3   4  699  RS  Feminino  39     1         0   2   0   0   9382663.0    0\n",
       "4   5  850  SC  Feminino  43     2  12551082   1   1   1    790841.0    0"
      ]
     },
     "execution_count": 12,
     "metadata": {},
     "output_type": "execute_result"
    }
   ],
   "source": [
    "#Segundo paso importação do conjunto de dados e visualização\n",
    "\n",
    "dataset = pd.read_csv(\"base_de_dados/churn.csv\", sep=\";\")\n",
    "dataset.head() #Com o método head() conseguimos visualizar o cabeçalho do dataset"
   ]
  },
  {
   "cell_type": "markdown",
   "id": "ed9aa836-9091-4637-9f85-a1b9905cab3c",
   "metadata": {},
   "source": [
    "Como primeiro problema (ou não) temos os nomes das colunas da tabela que não transmitem sentido algum."
   ]
  },
  {
   "cell_type": "code",
   "execution_count": 16,
   "id": "bb431613-4d09-4da7-b002-7f306f17b560",
   "metadata": {},
   "outputs": [
    {
     "data": {
      "text/plain": [
       "(999, 12)"
      ]
     },
     "execution_count": 16,
     "metadata": {},
     "output_type": "execute_result"
    }
   ],
   "source": [
    "dataset.shape #Verificando o tamanho do conjunto de dados \"tupla(quantidade_linhas, quantidade_colunas)\""
   ]
  },
  {
   "cell_type": "code",
   "execution_count": 20,
   "id": "aa5a9d5c-8cc7-4d0f-99c0-b29a25192528",
   "metadata": {},
   "outputs": [
    {
     "data": {
      "text/html": [
       "<div>\n",
       "<style scoped>\n",
       "    .dataframe tbody tr th:only-of-type {\n",
       "        vertical-align: middle;\n",
       "    }\n",
       "\n",
       "    .dataframe tbody tr th {\n",
       "        vertical-align: top;\n",
       "    }\n",
       "\n",
       "    .dataframe thead th {\n",
       "        text-align: right;\n",
       "    }\n",
       "</style>\n",
       "<table border=\"1\" class=\"dataframe\">\n",
       "  <thead>\n",
       "    <tr style=\"text-align: right;\">\n",
       "      <th></th>\n",
       "      <th>id</th>\n",
       "      <th>Score</th>\n",
       "      <th>Estado</th>\n",
       "      <th>Gênero</th>\n",
       "      <th>Idade</th>\n",
       "      <th>Patrimônio</th>\n",
       "      <th>Saldo em Conta</th>\n",
       "      <th>Quantidade de Produtos do Branco Que Usa</th>\n",
       "      <th>Tem Cartão de Crédito</th>\n",
       "      <th>Conta Ativa</th>\n",
       "      <th>Salário Anual</th>\n",
       "      <th>Saiu</th>\n",
       "    </tr>\n",
       "  </thead>\n",
       "  <tbody>\n",
       "    <tr>\n",
       "      <th>0</th>\n",
       "      <td>1</td>\n",
       "      <td>619</td>\n",
       "      <td>RS</td>\n",
       "      <td>Feminino</td>\n",
       "      <td>42</td>\n",
       "      <td>2</td>\n",
       "      <td>0</td>\n",
       "      <td>1</td>\n",
       "      <td>1</td>\n",
       "      <td>1</td>\n",
       "      <td>10134888.0</td>\n",
       "      <td>1</td>\n",
       "    </tr>\n",
       "    <tr>\n",
       "      <th>1</th>\n",
       "      <td>2</td>\n",
       "      <td>608</td>\n",
       "      <td>SC</td>\n",
       "      <td>Feminino</td>\n",
       "      <td>41</td>\n",
       "      <td>1</td>\n",
       "      <td>8380786</td>\n",
       "      <td>1</td>\n",
       "      <td>0</td>\n",
       "      <td>1</td>\n",
       "      <td>11254258.0</td>\n",
       "      <td>0</td>\n",
       "    </tr>\n",
       "    <tr>\n",
       "      <th>2</th>\n",
       "      <td>3</td>\n",
       "      <td>502</td>\n",
       "      <td>RS</td>\n",
       "      <td>Feminino</td>\n",
       "      <td>42</td>\n",
       "      <td>8</td>\n",
       "      <td>1596608</td>\n",
       "      <td>3</td>\n",
       "      <td>1</td>\n",
       "      <td>0</td>\n",
       "      <td>11393157.0</td>\n",
       "      <td>1</td>\n",
       "    </tr>\n",
       "    <tr>\n",
       "      <th>3</th>\n",
       "      <td>4</td>\n",
       "      <td>699</td>\n",
       "      <td>RS</td>\n",
       "      <td>Feminino</td>\n",
       "      <td>39</td>\n",
       "      <td>1</td>\n",
       "      <td>0</td>\n",
       "      <td>2</td>\n",
       "      <td>0</td>\n",
       "      <td>0</td>\n",
       "      <td>9382663.0</td>\n",
       "      <td>0</td>\n",
       "    </tr>\n",
       "    <tr>\n",
       "      <th>4</th>\n",
       "      <td>5</td>\n",
       "      <td>850</td>\n",
       "      <td>SC</td>\n",
       "      <td>Feminino</td>\n",
       "      <td>43</td>\n",
       "      <td>2</td>\n",
       "      <td>12551082</td>\n",
       "      <td>1</td>\n",
       "      <td>1</td>\n",
       "      <td>1</td>\n",
       "      <td>790841.0</td>\n",
       "      <td>0</td>\n",
       "    </tr>\n",
       "  </tbody>\n",
       "</table>\n",
       "</div>"
      ],
      "text/plain": [
       "   id  Score Estado    Gênero  Idade  Patrimônio  Saldo em Conta  \\\n",
       "0   1    619     RS  Feminino     42           2               0   \n",
       "1   2    608     SC  Feminino     41           1         8380786   \n",
       "2   3    502     RS  Feminino     42           8         1596608   \n",
       "3   4    699     RS  Feminino     39           1               0   \n",
       "4   5    850     SC  Feminino     43           2        12551082   \n",
       "\n",
       "   Quantidade de Produtos do Branco Que Usa  Tem Cartão de Crédito  \\\n",
       "0                                         1                      1   \n",
       "1                                         1                      0   \n",
       "2                                         3                      1   \n",
       "3                                         2                      0   \n",
       "4                                         1                      1   \n",
       "\n",
       "   Conta Ativa  Salário Anual  Saiu  \n",
       "0            1     10134888.0     1  \n",
       "1            1     11254258.0     0  \n",
       "2            0     11393157.0     1  \n",
       "3            0      9382663.0     0  \n",
       "4            1       790841.0     0  "
      ]
     },
     "execution_count": 20,
     "metadata": {},
     "output_type": "execute_result"
    }
   ],
   "source": [
    "#Renomeando as colunas\n",
    "\n",
    "dataset.columns = [\"id\", \"Score\", \"Estado\", \"Gênero\", \"Idade\", \"Patrimônio\", \"Saldo em Conta\",\n",
    "                   \"Quantidade de Produtos do Branco Que Usa\", \"Tem Cartão de Crédito\", \"Conta Ativa\",\n",
    "                   \"Salário Anual\", \"Saiu\"]\n",
    "\n",
    "dataset.head()"
   ]
  },
  {
   "cell_type": "markdown",
   "id": "4f8a4cec-1076-4476-b4cf-be9ebbb4178c",
   "metadata": {},
   "source": [
    "Análise exploratoria dos dados para colhecer os dados e detectar problemas nos dados"
   ]
  },
  {
   "cell_type": "code",
   "execution_count": 22,
   "id": "83271598-e250-4d8e-b78b-f9be530bdf2f",
   "metadata": {},
   "outputs": [
    {
     "data": {
      "text/plain": [
       "Estado\n",
       "PR    257\n",
       "RP      1\n",
       "RS    478\n",
       "SC    258\n",
       "SP      4\n",
       "TD      1\n",
       "dtype: int64"
      ]
     },
     "execution_count": 22,
     "metadata": {},
     "output_type": "execute_result"
    }
   ],
   "source": [
    "#Estado\n",
    "\n",
    "agrupamento = dataset.groupby([\"Estado\"]).size()\n",
    "agrupamento"
   ]
  },
  {
   "cell_type": "markdown",
   "id": "7ee2e2e3-1106-4e87-b21a-6d32bfcf6e51",
   "metadata": {},
   "source": [
    "Temos estados fora do domínio do negócio (SP) e siglas para estados que nem existem (RP, TD). A moda é o estado RS."
   ]
  },
  {
   "cell_type": "code",
   "execution_count": 26,
   "id": "295b88ec-01b6-49b6-bf5e-d47ca3a75da0",
   "metadata": {},
   "outputs": [
    {
     "data": {
      "text/plain": [
       "<Axes: xlabel='Estado'>"
      ]
     },
     "execution_count": 26,
     "metadata": {},
     "output_type": "execute_result"
    },
    {
     "data": {
      "image/png": "[encoded data removed]",
      "text/plain": [
       "<Figure size 640x480 with 1 Axes>"
      ]
     },
     "metadata": {},
     "output_type": "display_data"
    }
   ],
   "source": [
    "agrupamento.plot.bar(color = \"red\")"
   ]
  },
  {
   "cell_type": "code",
   "execution_count": 28,
   "id": "ebd3c8ac-6055-47b7-a929-e99dfb590c1b",
   "metadata": {},
   "outputs": [
    {
     "data": {
      "text/plain": [
       "Gênero\n",
       "F              2\n",
       "Fem            1\n",
       "Feminino     461\n",
       "M              6\n",
       "Masculino    521\n",
       "dtype: int64"
      ]
     },
     "execution_count": 28,
     "metadata": {},
     "output_type": "execute_result"
    }
   ],
   "source": [
    "#Gênero\n",
    "\n",
    "agrupamento = dataset.groupby([\"Gênero\"]).size()\n",
    "agrupamento"
   ]
  },
  {
   "cell_type": "markdown",
   "id": "0ec820d4-c608-493b-8118-e1f33bd58b2c",
   "metadata": {},
   "source": [
    "Na coluna Gênero o problema é pela não existência de uma padronização para os dados visto que F, Fem e Feminino são a mesma coisa assim como M e Masculino também são a mesma coisa. Masculino é a moda."
   ]
  },
  {
   "cell_type": "code",
   "execution_count": 30,
   "id": "4ac20799-aa08-4230-90db-c19e0f1917d9",
   "metadata": {},
   "outputs": [
    {
     "data": {
      "text/plain": [
       "<Axes: xlabel='Gênero'>"
      ]
     },
     "execution_count": 30,
     "metadata": {},
     "output_type": "execute_result"
    },
    {
     "data": {
      "image/png": "[encoded data removed]",
      "text/plain": [
       "<Figure size 640x480 with 1 Axes>"
      ]
     },
     "metadata": {},
     "output_type": "display_data"
    }
   ],
   "source": [
    "agrupamento.plot.bar(color = \"blue\")"
   ]
  },
  {
   "cell_type": "code",
   "execution_count": 34,
   "id": "1bc536f2-5c6f-4be8-a446-64b9010345cc",
   "metadata": {},
   "outputs": [
    {
     "data": {
      "text/plain": [
       "count    999.000000\n",
       "mean     648.621622\n",
       "std       98.264219\n",
       "min      376.000000\n",
       "25%      580.000000\n",
       "50%      653.000000\n",
       "75%      721.000000\n",
       "max      850.000000\n",
       "Name: Score, dtype: float64"
      ]
     },
     "execution_count": 34,
     "metadata": {},
     "output_type": "execute_result"
    }
   ],
   "source": [
    "#Score\n",
    "\n",
    "dataset[\"Score\"].describe()"
   ]
  },
  {
   "cell_type": "code",
   "execution_count": 37,
   "id": "03241fcb-35d7-4bff-8f26-9f0a42545bdd",
   "metadata": {},
   "outputs": [
    {
     "data": {
      "text/plain": [
       "Text(0.5, 1.0, 'Score')"
      ]
     },
     "execution_count": 37,
     "metadata": {},
     "output_type": "execute_result"
    },
    {
     "data": {
      "image/png": "[encoded data removed]",
      "text/plain": [
       "<Figure size 640x480 with 1 Axes>"
      ]
     },
     "metadata": {},
     "output_type": "display_data"
    }
   ],
   "source": [
    "sbn.boxplot(dataset[\"Score\"]).set_title(\"Score\")"
   ]
  },
  {
   "cell_type": "code",
   "execution_count": 45,
   "id": "a128540a-100d-4d62-9f54-e82935fbeeda",
   "metadata": {},
   "outputs": [
    {
     "name": "stderr",
     "output_type": "stream",
     "text": [
      "/home/diogo/anaconda3/lib/python3.11/site-packages/seaborn/_oldcore.py:1119: FutureWarning: use_inf_as_na option is deprecated and will be removed in a future version. Convert inf values to NaN before operating instead.\n",
      "  with pd.option_context('mode.use_inf_as_na', True):\n"
     ]
    },
    {
     "data": {
      "image/png": "[encoded data removed]",
      "text/plain": [
       "<Figure size 500x500 with 1 Axes>"
      ]
     },
     "metadata": {},
     "output_type": "display_data"
    }
   ],
   "source": [
    "sbn.displot(dataset[\"Score\"], kind=\"hist\", kde=\"True\", color=\"blue\")\n",
    "\n",
    "plt.title(\"Score\")\n",
    "plt.xlabel(\"Valor (R$)\")\n",
    "plt.ylabel(\"Frequencia\")\n",
    "plt.show()"
   ]
  },
  {
   "cell_type": "markdown",
   "id": "1b21b47a-7149-4f78-ac21-d0da22ef6abd",
   "metadata": {},
   "source": [
    "Aparentemente os dados da coluna Score não apresentão problemas"
   ]
  },
  {
   "cell_type": "code",
   "execution_count": 47,
   "id": "efc5b039-f450-4566-b83b-bdefdd44a38d",
   "metadata": {},
   "outputs": [
    {
     "data": {
      "text/plain": [
       "count    999.000000\n",
       "mean      38.902903\n",
       "std       11.401912\n",
       "min      -20.000000\n",
       "25%       32.000000\n",
       "50%       37.000000\n",
       "75%       44.000000\n",
       "max      140.000000\n",
       "Name: Idade, dtype: float64"
      ]
     },
     "execution_count": 47,
     "metadata": {},
     "output_type": "execute_result"
    }
   ],
   "source": [
    "#Idade\n",
    "\n",
    "dataset[\"Idade\"].describe()"
   ]
  },
  {
   "cell_type": "markdown",
   "id": "9c090dba-7bbe-4a35-877f-573e6a2a383e",
   "metadata": {},
   "source": [
    "Na coluna Idade é possível perceber que o min (menor valor) é -20 o que foge da regra de negocio visto que os clientes do banco devem ter pelo menos 18 anos. Como maior valor temos 140 anos o que pode ser um erro também."
   ]
  },
  {
   "cell_type": "code",
   "execution_count": 51,
   "id": "7fd170db-8652-40bf-8847-a83d8bdff103",
   "metadata": {},
   "outputs": [
    {
     "data": {
      "text/plain": [
       "Text(0.5, 1.0, 'Idade')"
      ]
     },
     "execution_count": 51,
     "metadata": {},
     "output_type": "execute_result"
    },
    {
     "data": {
      "image/png": "[encoded data removed]",
      "text/plain": [
       "<Figure size 640x480 with 1 Axes>"
      ]
     },
     "metadata": {},
     "output_type": "display_data"
    }
   ],
   "source": [
    "sbn.boxplot(dataset[\"Idade\"]).set_title(\"Idade\")"
   ]
  },
  {
   "cell_type": "code",
   "execution_count": 54,
   "id": "f8abb051-c248-4d73-a3e3-79e1ec943ffb",
   "metadata": {},
   "outputs": [
    {
     "name": "stderr",
     "output_type": "stream",
     "text": [
      "/home/diogo/anaconda3/lib/python3.11/site-packages/seaborn/_oldcore.py:1119: FutureWarning: use_inf_as_na option is deprecated and will be removed in a future version. Convert inf values to NaN before operating instead.\n",
      "  with pd.option_context('mode.use_inf_as_na', True):\n"
     ]
    },
    {
     "data": {
      "image/png": "[encoded data removed]",
      "text/plain": [
       "<Figure size 500x500 with 1 Axes>"
      ]
     },
     "metadata": {},
     "output_type": "display_data"
    }
   ],
   "source": [
    "sbn.displot(dataset[\"Idade\"], kind=\"hist\", kde=\"True\", color=\"blue\")\n",
    "\n",
    "plt.title(\"Score\")\n",
    "plt.xlabel(\"Idade\")\n",
    "plt.ylabel(\"Frequencia\")\n",
    "plt.show()"
   ]
  },
  {
   "cell_type": "code",
   "execution_count": 57,
   "id": "f4ff24fc-1413-4c3c-bf7d-c8bf3ebd1706",
   "metadata": {},
   "outputs": [
    {
     "data": {
      "text/plain": [
       "count    9.990000e+02\n",
       "mean     7.164928e+06\n",
       "std      6.311840e+06\n",
       "min      0.000000e+00\n",
       "25%      0.000000e+00\n",
       "50%      8.958835e+06\n",
       "75%      1.258684e+07\n",
       "max      2.117743e+07\n",
       "Name: Saldo em Conta, dtype: float64"
      ]
     },
     "execution_count": 57,
     "metadata": {},
     "output_type": "execute_result"
    }
   ],
   "source": [
    "#Saldo em Conta\n",
    "\n",
    "dataset[\"Saldo em Conta\"].describe()"
   ]
  },
  {
   "cell_type": "code",
   "execution_count": 61,
   "id": "b65b784d-8e20-4d91-8ed2-84547d885461",
   "metadata": {},
   "outputs": [
    {
     "data": {
      "text/plain": [
       "Text(0.5, 1.0, 'Saldo em Conta')"
      ]
     },
     "execution_count": 61,
     "metadata": {},
     "output_type": "execute_result"
    },
    {
     "data": {
      "image/png": "[encoded data removed]",
      "text/plain": [
       "<Figure size 640x480 with 1 Axes>"
      ]
     },
     "metadata": {},
     "output_type": "display_data"
    }
   ],
   "source": [
    "sbn.boxplot(dataset[\"Saldo em Conta\"]).set_title(\"Saldo em Conta\")"
   ]
  },
  {
   "cell_type": "code",
   "execution_count": 66,
   "id": "ab90b977-bb07-4da7-a99e-58c77b2ad44e",
   "metadata": {},
   "outputs": [
    {
     "name": "stderr",
     "output_type": "stream",
     "text": [
      "/home/diogo/anaconda3/lib/python3.11/site-packages/seaborn/_oldcore.py:1119: FutureWarning: use_inf_as_na option is deprecated and will be removed in a future version. Convert inf values to NaN before operating instead.\n",
      "  with pd.option_context('mode.use_inf_as_na', True):\n"
     ]
    },
    {
     "data": {
      "image/png": "[encoded data removed]",
      "text/plain": [
       "<Figure size 500x500 with 1 Axes>"
      ]
     },
     "metadata": {},
     "output_type": "display_data"
    }
   ],
   "source": [
    "sbn.displot(dataset[\"Saldo em Conta\"], kind=\"hist\", kde=\"True\", color=\"blue\")\n",
    "plt.xlabel(\"Saldo em conta (R$)\")\n",
    "plt.ylabel(\"Frequencia\")\n",
    "plt.show()"
   ]
  },
  {
   "cell_type": "markdown",
   "id": "80345518-e1e4-4019-97a0-29cdef2562f2",
   "metadata": {},
   "source": [
    "Uma grande quantidade de contas tem saldo igual a zero"
   ]
  },
  {
   "cell_type": "code",
   "execution_count": 68,
   "id": "3efd1a31-cc90-49d5-8b21-a9857bf9e81f",
   "metadata": {},
   "outputs": [
    {
     "data": {
      "text/plain": [
       "count    9.920000e+02\n",
       "mean     3.528762e+07\n",
       "std      5.305800e+08\n",
       "min      9.677000e+03\n",
       "25%      3.029011e+06\n",
       "50%      8.703250e+06\n",
       "75%      1.405213e+07\n",
       "max      1.193469e+10\n",
       "Name: Salário Anual, dtype: float64"
      ]
     },
     "execution_count": 68,
     "metadata": {},
     "output_type": "execute_result"
    }
   ],
   "source": [
    "dataset[\"Salário Anual\"].describe()"
   ]
  },
  {
   "cell_type": "code",
   "execution_count": 70,
   "id": "88cbc6f3-b302-4663-9a44-c392564e8d7d",
   "metadata": {},
   "outputs": [
    {
     "data": {
      "text/plain": [
       "Text(0.5, 1.0, 'Salário Anual')"
      ]
     },
     "execution_count": 70,
     "metadata": {},
     "output_type": "execute_result"
    },
    {
     "data": {
      "image/png": "[encoded data removed]",
      "text/plain": [
       "<Figure size 640x480 with 1 Axes>"
      ]
     },
     "metadata": {},
     "output_type": "display_data"
    }
   ],
   "source": [
    "sbn.boxplot(dataset[\"Salário Anual\"]).set_title(\"Salário Anual\")"
   ]
  },
  {
   "cell_type": "code",
   "execution_count": 75,
   "id": "d2f946a5-2a7d-4c16-bd5d-c7ace63854c0",
   "metadata": {},
   "outputs": [
    {
     "name": "stderr",
     "output_type": "stream",
     "text": [
      "/home/diogo/anaconda3/lib/python3.11/site-packages/seaborn/_oldcore.py:1119: FutureWarning: use_inf_as_na option is deprecated and will be removed in a future version. Convert inf values to NaN before operating instead.\n",
      "  with pd.option_context('mode.use_inf_as_na', True):\n"
     ]
    },
    {
     "data": {
      "text/plain": [
       "<seaborn.axisgrid.FacetGrid at 0x7bb8d8a32890>"
      ]
     },
     "execution_count": 75,
     "metadata": {},
     "output_type": "execute_result"
    },
    {
     "data": {
      "image/png": "[encoded data removed]",
      "text/plain": [
       "<Figure size 500x500 with 1 Axes>"
      ]
     },
     "metadata": {},
     "output_type": "display_data"
    }
   ],
   "source": [
    "sbn.displot(dataset[\"Salário Anual\"], kind=\"hist\", kde=\"True\", color=\"blue\")"
   ]
  },
  {
   "cell_type": "code",
   "execution_count": 77,
   "id": "9ae7ec15-8179-44bd-b448-7c3ba38160c7",
   "metadata": {},
   "outputs": [
    {
     "data": {
      "text/plain": [
       "id                                          0\n",
       "Score                                       0\n",
       "Estado                                      0\n",
       "Gênero                                      8\n",
       "Idade                                       0\n",
       "Patrimônio                                  0\n",
       "Saldo em Conta                              0\n",
       "Quantidade de Produtos do Branco Que Usa    0\n",
       "Tem Cartão de Crédito                       0\n",
       "Conta Ativa                                 0\n",
       "Salário Anual                               7\n",
       "Saiu                                        0\n",
       "dtype: int64"
      ]
     },
     "execution_count": 77,
     "metadata": {},
     "output_type": "execute_result"
    }
   ],
   "source": [
    "#Verificando se há valores NaN\n",
    "\n",
    "dataset.isnull().sum()"
   ]
  },
  {
   "cell_type": "markdown",
   "id": "aecebfec-493f-49e3-ac83-ea37b14e3dcc",
   "metadata": {},
   "source": [
    "Na coluna Gênero temos 8 valores não informados e na coluna Salário Anual 7."
   ]
  },
  {
   "cell_type": "code",
   "execution_count": 97,
   "id": "2b02a80c-3828-4d89-ba53-03d959717155",
   "metadata": {},
   "outputs": [
    {
     "data": {
      "text/html": [
       "<div>\n",
       "<style scoped>\n",
       "    .dataframe tbody tr th:only-of-type {\n",
       "        vertical-align: middle;\n",
       "    }\n",
       "\n",
       "    .dataframe tbody tr th {\n",
       "        vertical-align: top;\n",
       "    }\n",
       "\n",
       "    .dataframe thead th {\n",
       "        text-align: right;\n",
       "    }\n",
       "</style>\n",
       "<table border=\"1\" class=\"dataframe\">\n",
       "  <thead>\n",
       "    <tr style=\"text-align: right;\">\n",
       "      <th></th>\n",
       "      <th>id</th>\n",
       "      <th>Score</th>\n",
       "      <th>Estado</th>\n",
       "      <th>Gênero</th>\n",
       "      <th>Idade</th>\n",
       "      <th>Patrimônio</th>\n",
       "      <th>Saldo em Conta</th>\n",
       "      <th>Quantidade de Produtos do Branco Que Usa</th>\n",
       "      <th>Tem Cartão de Crédito</th>\n",
       "      <th>Conta Ativa</th>\n",
       "      <th>Salário Anual</th>\n",
       "      <th>Saiu</th>\n",
       "    </tr>\n",
       "  </thead>\n",
       "  <tbody>\n",
       "    <tr>\n",
       "      <th>80</th>\n",
       "      <td>81</td>\n",
       "      <td>665</td>\n",
       "      <td>RS</td>\n",
       "      <td>Feminino</td>\n",
       "      <td>34</td>\n",
       "      <td>1</td>\n",
       "      <td>9664554</td>\n",
       "      <td>2</td>\n",
       "      <td>0</td>\n",
       "      <td>0</td>\n",
       "      <td>17141366.0</td>\n",
       "      <td>0</td>\n",
       "    </tr>\n",
       "    <tr>\n",
       "      <th>81</th>\n",
       "      <td>81</td>\n",
       "      <td>665</td>\n",
       "      <td>RS</td>\n",
       "      <td>Feminino</td>\n",
       "      <td>34</td>\n",
       "      <td>1</td>\n",
       "      <td>9664554</td>\n",
       "      <td>2</td>\n",
       "      <td>0</td>\n",
       "      <td>0</td>\n",
       "      <td>17141366.0</td>\n",
       "      <td>0</td>\n",
       "    </tr>\n",
       "  </tbody>\n",
       "</table>\n",
       "</div>"
      ],
      "text/plain": [
       "    id  Score Estado    Gênero  Idade  Patrimônio  Saldo em Conta  \\\n",
       "80  81    665     RS  Feminino     34           1         9664554   \n",
       "81  81    665     RS  Feminino     34           1         9664554   \n",
       "\n",
       "    Quantidade de Produtos do Branco Que Usa  Tem Cartão de Crédito  \\\n",
       "80                                         2                      0   \n",
       "81                                         2                      0   \n",
       "\n",
       "    Conta Ativa  Salário Anual  Saiu  \n",
       "80            0     17141366.0     0  \n",
       "81            0     17141366.0     0  "
      ]
     },
     "execution_count": 97,
     "metadata": {},
     "output_type": "execute_result"
    }
   ],
   "source": [
    "#Verificando a existência de valores duplicados\n",
    "\n",
    "dataset[dataset.duplicated([\"id\"], keep=False)]"
   ]
  },
  {
   "cell_type": "markdown",
   "id": "70b85d3d-4d2e-4115-ba63-eeafd788a10b",
   "metadata": {},
   "source": [
    "Tratamento dos dados"
   ]
  },
  {
   "cell_type": "code",
   "execution_count": 81,
   "id": "53cfbae9-b538-4ccd-80e5-456971d1a939",
   "metadata": {},
   "outputs": [
    {
     "data": {
      "text/plain": [
       "70518.0"
      ]
     },
     "execution_count": 81,
     "metadata": {},
     "output_type": "execute_result"
    }
   ],
   "source": [
    "#Eliminar valores NaN na coluna Salário Anual\n",
    "\n",
    "mediana = sts.median(dataset[\"Salário Anual\"])\n",
    "mediana"
   ]
  },
  {
   "cell_type": "code",
   "execution_count": 83,
   "id": "6fb3dc43-33ff-4b9a-a1d4-745b5fb05116",
   "metadata": {},
   "outputs": [
    {
     "data": {
      "text/plain": [
       "0"
      ]
     },
     "execution_count": 83,
     "metadata": {},
     "output_type": "execute_result"
    }
   ],
   "source": [
    "dataset[\"Salário Anual\"].fillna(mediana, inplace=True) #Colocando no lugar dos valores NaN a mediana da coluna\n",
    "dataset[\"Salário Anual\"].isnull().sum() #Verificando se ainda existem valores NaN na coluna"
   ]
  },
  {
   "cell_type": "code",
   "execution_count": 85,
   "id": "c2fe863b-7fc9-4c8c-ab1a-7492ab492916",
   "metadata": {},
   "outputs": [
    {
     "data": {
      "text/plain": [
       "0"
      ]
     },
     "execution_count": 85,
     "metadata": {},
     "output_type": "execute_result"
    }
   ],
   "source": [
    "#Gênero tem valores NaN e dados não padronizados\n",
    "\n",
    "dataset[\"Gênero\"].fillna(\"Masculino\", inplace=True) #Colocando no lugar dos valores NaN masculino que é a moda da coluna\n",
    "dataset[\"Gênero\"].isnull().sum() #Verificando se ainda existem valores NaN"
   ]
  },
  {
   "cell_type": "code",
   "execution_count": 87,
   "id": "25e6e867-cbb3-4201-99b4-6cbdee749252",
   "metadata": {},
   "outputs": [
    {
     "data": {
      "text/plain": [
       "Gênero\n",
       "Feminino     464\n",
       "Masculino    535\n",
       "dtype: int64"
      ]
     },
     "execution_count": 87,
     "metadata": {},
     "output_type": "execute_result"
    }
   ],
   "source": [
    "dataset.loc[dataset[\"Gênero\"] == \"M\", \"Gênero\"] = \"Masculino\"\n",
    "dataset.loc[dataset[\"Gênero\"].isin([\"F\", \"Fem\"]), \"Gênero\"] = \"Feminino\"\n",
    "agrupamento = dataset.groupby([\"Gênero\"]).size()\n",
    "agrupamento"
   ]
  },
  {
   "cell_type": "code",
   "execution_count": 91,
   "id": "73c9773f-aee0-4004-83e3-c278fa2db0b1",
   "metadata": {},
   "outputs": [
    {
     "data": {
      "text/html": [
       "<div>\n",
       "<style scoped>\n",
       "    .dataframe tbody tr th:only-of-type {\n",
       "        vertical-align: middle;\n",
       "    }\n",
       "\n",
       "    .dataframe tbody tr th {\n",
       "        vertical-align: top;\n",
       "    }\n",
       "\n",
       "    .dataframe thead th {\n",
       "        text-align: right;\n",
       "    }\n",
       "</style>\n",
       "<table border=\"1\" class=\"dataframe\">\n",
       "  <thead>\n",
       "    <tr style=\"text-align: right;\">\n",
       "      <th></th>\n",
       "      <th>id</th>\n",
       "      <th>Score</th>\n",
       "      <th>Estado</th>\n",
       "      <th>Gênero</th>\n",
       "      <th>Idade</th>\n",
       "      <th>Patrimônio</th>\n",
       "      <th>Saldo em Conta</th>\n",
       "      <th>Quantidade de Produtos do Branco Que Usa</th>\n",
       "      <th>Tem Cartão de Crédito</th>\n",
       "      <th>Conta Ativa</th>\n",
       "      <th>Salário Anual</th>\n",
       "      <th>Saiu</th>\n",
       "    </tr>\n",
       "  </thead>\n",
       "  <tbody>\n",
       "    <tr>\n",
       "      <th>851</th>\n",
       "      <td>853</td>\n",
       "      <td>667</td>\n",
       "      <td>PR</td>\n",
       "      <td>Feminino</td>\n",
       "      <td>0</td>\n",
       "      <td>1</td>\n",
       "      <td>9713392</td>\n",
       "      <td>2</td>\n",
       "      <td>0</td>\n",
       "      <td>0</td>\n",
       "      <td>11331677.0</td>\n",
       "      <td>1</td>\n",
       "    </tr>\n",
       "    <tr>\n",
       "      <th>867</th>\n",
       "      <td>869</td>\n",
       "      <td>636</td>\n",
       "      <td>RS</td>\n",
       "      <td>Feminino</td>\n",
       "      <td>-10</td>\n",
       "      <td>1</td>\n",
       "      <td>17083346</td>\n",
       "      <td>1</td>\n",
       "      <td>1</td>\n",
       "      <td>0</td>\n",
       "      <td>11051028.0</td>\n",
       "      <td>1</td>\n",
       "    </tr>\n",
       "    <tr>\n",
       "      <th>887</th>\n",
       "      <td>889</td>\n",
       "      <td>585</td>\n",
       "      <td>RS</td>\n",
       "      <td>Masculino</td>\n",
       "      <td>0</td>\n",
       "      <td>2</td>\n",
       "      <td>0</td>\n",
       "      <td>2</td>\n",
       "      <td>1</td>\n",
       "      <td>1</td>\n",
       "      <td>1865777.0</td>\n",
       "      <td>0</td>\n",
       "    </tr>\n",
       "    <tr>\n",
       "      <th>930</th>\n",
       "      <td>932</td>\n",
       "      <td>661</td>\n",
       "      <td>SC</td>\n",
       "      <td>Masculino</td>\n",
       "      <td>0</td>\n",
       "      <td>6</td>\n",
       "      <td>13262898</td>\n",
       "      <td>1</td>\n",
       "      <td>0</td>\n",
       "      <td>0</td>\n",
       "      <td>3881267.0</td>\n",
       "      <td>0</td>\n",
       "    </tr>\n",
       "    <tr>\n",
       "      <th>931</th>\n",
       "      <td>933</td>\n",
       "      <td>564</td>\n",
       "      <td>PR</td>\n",
       "      <td>Masculino</td>\n",
       "      <td>0</td>\n",
       "      <td>9</td>\n",
       "      <td>10352275</td>\n",
       "      <td>2</td>\n",
       "      <td>1</td>\n",
       "      <td>1</td>\n",
       "      <td>3433821.0</td>\n",
       "      <td>0</td>\n",
       "    </tr>\n",
       "    <tr>\n",
       "      <th>947</th>\n",
       "      <td>949</td>\n",
       "      <td>715</td>\n",
       "      <td>RS</td>\n",
       "      <td>Feminino</td>\n",
       "      <td>0</td>\n",
       "      <td>5</td>\n",
       "      <td>11859041</td>\n",
       "      <td>1</td>\n",
       "      <td>1</td>\n",
       "      <td>1</td>\n",
       "      <td>568417.0</td>\n",
       "      <td>1</td>\n",
       "    </tr>\n",
       "    <tr>\n",
       "      <th>984</th>\n",
       "      <td>986</td>\n",
       "      <td>773</td>\n",
       "      <td>RS</td>\n",
       "      <td>Masculino</td>\n",
       "      <td>-20</td>\n",
       "      <td>1</td>\n",
       "      <td>12453278</td>\n",
       "      <td>2</td>\n",
       "      <td>0</td>\n",
       "      <td>1</td>\n",
       "      <td>1172357.0</td>\n",
       "      <td>0</td>\n",
       "    </tr>\n",
       "    <tr>\n",
       "      <th>990</th>\n",
       "      <td>992</td>\n",
       "      <td>655</td>\n",
       "      <td>RS</td>\n",
       "      <td>Masculino</td>\n",
       "      <td>140</td>\n",
       "      <td>5</td>\n",
       "      <td>93147</td>\n",
       "      <td>2</td>\n",
       "      <td>1</td>\n",
       "      <td>0</td>\n",
       "      <td>6621413.0</td>\n",
       "      <td>0</td>\n",
       "    </tr>\n",
       "  </tbody>\n",
       "</table>\n",
       "</div>"
      ],
      "text/plain": [
       "      id  Score Estado     Gênero  Idade  Patrimônio  Saldo em Conta  \\\n",
       "851  853    667     PR   Feminino      0           1         9713392   \n",
       "867  869    636     RS   Feminino    -10           1        17083346   \n",
       "887  889    585     RS  Masculino      0           2               0   \n",
       "930  932    661     SC  Masculino      0           6        13262898   \n",
       "931  933    564     PR  Masculino      0           9        10352275   \n",
       "947  949    715     RS   Feminino      0           5        11859041   \n",
       "984  986    773     RS  Masculino    -20           1        12453278   \n",
       "990  992    655     RS  Masculino    140           5           93147   \n",
       "\n",
       "     Quantidade de Produtos do Branco Que Usa  Tem Cartão de Crédito  \\\n",
       "851                                         2                      0   \n",
       "867                                         1                      1   \n",
       "887                                         2                      1   \n",
       "930                                         1                      0   \n",
       "931                                         2                      1   \n",
       "947                                         1                      1   \n",
       "984                                         2                      0   \n",
       "990                                         2                      1   \n",
       "\n",
       "     Conta Ativa  Salário Anual  Saiu  \n",
       "851            0     11331677.0     1  \n",
       "867            0     11051028.0     1  \n",
       "887            1      1865777.0     0  \n",
       "930            0      3881267.0     0  \n",
       "931            1      3433821.0     0  \n",
       "947            1       568417.0     1  \n",
       "984            1      1172357.0     0  \n",
       "990            0      6621413.0     0  "
      ]
     },
     "execution_count": 91,
     "metadata": {},
     "output_type": "execute_result"
    }
   ],
   "source": [
    "#Idade tendo valores menores que 18 anos que é a idade mínima e idades muito elevadas\n",
    "\n",
    "dataset.loc[(dataset[\"Idade\"] < 18) | (dataset[\"Idade\"] > 120)]"
   ]
  },
  {
   "cell_type": "code",
   "execution_count": 93,
   "id": "ee91d5e8-5603-42ba-96ec-9bdec16b627d",
   "metadata": {},
   "outputs": [
    {
     "data": {
      "text/plain": [
       "37"
      ]
     },
     "execution_count": 93,
     "metadata": {},
     "output_type": "execute_result"
    }
   ],
   "source": [
    "mediana = sts.median(dataset[\"Idade\"])\n",
    "mediana"
   ]
  },
  {
   "cell_type": "code",
   "execution_count": 95,
   "id": "60db55aa-faf4-49cf-a172-5fe507dc2f67",
   "metadata": {},
   "outputs": [
    {
     "data": {
      "text/html": [
       "<div>\n",
       "<style scoped>\n",
       "    .dataframe tbody tr th:only-of-type {\n",
       "        vertical-align: middle;\n",
       "    }\n",
       "\n",
       "    .dataframe tbody tr th {\n",
       "        vertical-align: top;\n",
       "    }\n",
       "\n",
       "    .dataframe thead th {\n",
       "        text-align: right;\n",
       "    }\n",
       "</style>\n",
       "<table border=\"1\" class=\"dataframe\">\n",
       "  <thead>\n",
       "    <tr style=\"text-align: right;\">\n",
       "      <th></th>\n",
       "      <th>id</th>\n",
       "      <th>Score</th>\n",
       "      <th>Estado</th>\n",
       "      <th>Gênero</th>\n",
       "      <th>Idade</th>\n",
       "      <th>Patrimônio</th>\n",
       "      <th>Saldo em Conta</th>\n",
       "      <th>Quantidade de Produtos do Branco Que Usa</th>\n",
       "      <th>Tem Cartão de Crédito</th>\n",
       "      <th>Conta Ativa</th>\n",
       "      <th>Salário Anual</th>\n",
       "      <th>Saiu</th>\n",
       "    </tr>\n",
       "  </thead>\n",
       "  <tbody>\n",
       "  </tbody>\n",
       "</table>\n",
       "</div>"
      ],
      "text/plain": [
       "Empty DataFrame\n",
       "Columns: [id, Score, Estado, Gênero, Idade, Patrimônio, Saldo em Conta, Quantidade de Produtos do Branco Que Usa, Tem Cartão de Crédito, Conta Ativa, Salário Anual, Saiu]\n",
       "Index: []"
      ]
     },
     "execution_count": 95,
     "metadata": {},
     "output_type": "execute_result"
    }
   ],
   "source": [
    "#Colocando no lugar das idades erradas a mediana da coluna Idade\n",
    "dataset.loc[(dataset[\"Idade\"] < 18) | (dataset[\"Idade\"] > 120), \"Idade\"] = mediana\n",
    "#Verificando se ainda existem valores errados\n",
    "dataset.loc[(dataset[\"Idade\"] < 18) | (dataset[\"Idade\"] > 120)]"
   ]
  },
  {
   "cell_type": "code",
   "execution_count": 102,
   "id": "1faf2dc1-5588-4514-bd24-aa64dbb6e1fc",
   "metadata": {},
   "outputs": [
    {
     "data": {
      "text/plain": [
       "Estado\n",
       "PR    257\n",
       "RS    484\n",
       "SC    258\n",
       "dtype: int64"
      ]
     },
     "execution_count": 102,
     "metadata": {},
     "output_type": "execute_result"
    }
   ],
   "source": [
    "#Estados fora do domínio, serão substituidos pela moda\n",
    "\n",
    "dataset.loc[dataset[\"Estado\"].isin([\"RP\", \"SP\", \"TD\"]), \"Estado\"] = \"RS\"\n",
    "agrupamento = dataset.groupby([\"Estado\"]).size()\n",
    "agrupamento"
   ]
  },
  {
   "cell_type": "code",
   "execution_count": 104,
   "id": "5df72f6a-e47f-4d8c-908d-ef1381075a17",
   "metadata": {},
   "outputs": [
    {
     "data": {
      "text/plain": [
       "528724131.43461967"
      ]
     },
     "execution_count": 104,
     "metadata": {},
     "output_type": "execute_result"
    }
   ],
   "source": [
    "#Salário Anual \n",
    "\n",
    "desvio_padrao = sts.stdev(dataset[\"Salário Anual\"])\n",
    "desvio_padrao"
   ]
  },
  {
   "cell_type": "code",
   "execution_count": 106,
   "id": "6f8da68d-2f62-445c-8d6b-47c838f98964",
   "metadata": {},
   "outputs": [
    {
     "data": {
      "text/html": [
       "<div>\n",
       "<style scoped>\n",
       "    .dataframe tbody tr th:only-of-type {\n",
       "        vertical-align: middle;\n",
       "    }\n",
       "\n",
       "    .dataframe tbody tr th {\n",
       "        vertical-align: top;\n",
       "    }\n",
       "\n",
       "    .dataframe thead th {\n",
       "        text-align: right;\n",
       "    }\n",
       "</style>\n",
       "<table border=\"1\" class=\"dataframe\">\n",
       "  <thead>\n",
       "    <tr style=\"text-align: right;\">\n",
       "      <th></th>\n",
       "      <th>id</th>\n",
       "      <th>Score</th>\n",
       "      <th>Estado</th>\n",
       "      <th>Gênero</th>\n",
       "      <th>Idade</th>\n",
       "      <th>Patrimônio</th>\n",
       "      <th>Saldo em Conta</th>\n",
       "      <th>Quantidade de Produtos do Branco Que Usa</th>\n",
       "      <th>Tem Cartão de Crédito</th>\n",
       "      <th>Conta Ativa</th>\n",
       "      <th>Salário Anual</th>\n",
       "      <th>Saiu</th>\n",
       "    </tr>\n",
       "  </thead>\n",
       "  <tbody>\n",
       "    <tr>\n",
       "      <th>7</th>\n",
       "      <td>8</td>\n",
       "      <td>376</td>\n",
       "      <td>PR</td>\n",
       "      <td>Feminino</td>\n",
       "      <td>29</td>\n",
       "      <td>4</td>\n",
       "      <td>11504674</td>\n",
       "      <td>4</td>\n",
       "      <td>1</td>\n",
       "      <td>0</td>\n",
       "      <td>1.193469e+10</td>\n",
       "      <td>1</td>\n",
       "    </tr>\n",
       "    <tr>\n",
       "      <th>116</th>\n",
       "      <td>118</td>\n",
       "      <td>668</td>\n",
       "      <td>PR</td>\n",
       "      <td>Feminino</td>\n",
       "      <td>37</td>\n",
       "      <td>6</td>\n",
       "      <td>1678644</td>\n",
       "      <td>1</td>\n",
       "      <td>1</td>\n",
       "      <td>0</td>\n",
       "      <td>1.156383e+10</td>\n",
       "      <td>0</td>\n",
       "    </tr>\n",
       "    <tr>\n",
       "      <th>170</th>\n",
       "      <td>172</td>\n",
       "      <td>484</td>\n",
       "      <td>RS</td>\n",
       "      <td>Feminino</td>\n",
       "      <td>29</td>\n",
       "      <td>4</td>\n",
       "      <td>13011439</td>\n",
       "      <td>1</td>\n",
       "      <td>1</td>\n",
       "      <td>0</td>\n",
       "      <td>1.640179e+09</td>\n",
       "      <td>0</td>\n",
       "    </tr>\n",
       "    <tr>\n",
       "      <th>230</th>\n",
       "      <td>232</td>\n",
       "      <td>673</td>\n",
       "      <td>RS</td>\n",
       "      <td>Masculino</td>\n",
       "      <td>72</td>\n",
       "      <td>1</td>\n",
       "      <td>0</td>\n",
       "      <td>2</td>\n",
       "      <td>0</td>\n",
       "      <td>1</td>\n",
       "      <td>1.119812e+09</td>\n",
       "      <td>0</td>\n",
       "    </tr>\n",
       "  </tbody>\n",
       "</table>\n",
       "</div>"
      ],
      "text/plain": [
       "      id  Score Estado     Gênero  Idade  Patrimônio  Saldo em Conta  \\\n",
       "7      8    376     PR   Feminino     29           4        11504674   \n",
       "116  118    668     PR   Feminino     37           6         1678644   \n",
       "170  172    484     RS   Feminino     29           4        13011439   \n",
       "230  232    673     RS  Masculino     72           1               0   \n",
       "\n",
       "     Quantidade de Produtos do Branco Que Usa  Tem Cartão de Crédito  \\\n",
       "7                                           4                      1   \n",
       "116                                         1                      1   \n",
       "170                                         1                      1   \n",
       "230                                         2                      0   \n",
       "\n",
       "     Conta Ativa  Salário Anual  Saiu  \n",
       "7              0   1.193469e+10     1  \n",
       "116            0   1.156383e+10     0  \n",
       "170            0   1.640179e+09     0  \n",
       "230            1   1.119812e+09     0  "
      ]
     },
     "execution_count": 106,
     "metadata": {},
     "output_type": "execute_result"
    }
   ],
   "source": [
    "dataset.loc[dataset[\"Salário Anual\"] >= 2 * desvio_padrao]"
   ]
  },
  {
   "cell_type": "code",
   "execution_count": 110,
   "id": "848e12f4-ef32-4e95-92a1-5ac2a9bb1b5e",
   "metadata": {},
   "outputs": [
    {
     "data": {
      "text/plain": [
       "8641028.0"
      ]
     },
     "execution_count": 110,
     "metadata": {},
     "output_type": "execute_result"
    }
   ],
   "source": [
    "mediana = sts.median(dataset[\"Salário Anual\"])\n",
    "mediana"
   ]
  },
  {
   "cell_type": "code",
   "execution_count": 116,
   "id": "d09560ad-859e-4eff-bac6-f53e79ee377f",
   "metadata": {},
   "outputs": [
    {
     "data": {
      "text/html": [
       "<div>\n",
       "<style scoped>\n",
       "    .dataframe tbody tr th:only-of-type {\n",
       "        vertical-align: middle;\n",
       "    }\n",
       "\n",
       "    .dataframe tbody tr th {\n",
       "        vertical-align: top;\n",
       "    }\n",
       "\n",
       "    .dataframe thead th {\n",
       "        text-align: right;\n",
       "    }\n",
       "</style>\n",
       "<table border=\"1\" class=\"dataframe\">\n",
       "  <thead>\n",
       "    <tr style=\"text-align: right;\">\n",
       "      <th></th>\n",
       "      <th>id</th>\n",
       "      <th>Score</th>\n",
       "      <th>Estado</th>\n",
       "      <th>Gênero</th>\n",
       "      <th>Idade</th>\n",
       "      <th>Patrimônio</th>\n",
       "      <th>Saldo em Conta</th>\n",
       "      <th>Quantidade de Produtos do Branco Que Usa</th>\n",
       "      <th>Tem Cartão de Crédito</th>\n",
       "      <th>Conta Ativa</th>\n",
       "      <th>Salário Anual</th>\n",
       "      <th>Saiu</th>\n",
       "    </tr>\n",
       "  </thead>\n",
       "  <tbody>\n",
       "  </tbody>\n",
       "</table>\n",
       "</div>"
      ],
      "text/plain": [
       "Empty DataFrame\n",
       "Columns: [id, Score, Estado, Gênero, Idade, Patrimônio, Saldo em Conta, Quantidade de Produtos do Branco Que Usa, Tem Cartão de Crédito, Conta Ativa, Salário Anual, Saiu]\n",
       "Index: []"
      ]
     },
     "execution_count": 116,
     "metadata": {},
     "output_type": "execute_result"
    }
   ],
   "source": [
    "dataset.loc[dataset[\"Salário Anual\"] >= 2 * desvio_padrao, \"Salário Anual\"] = mediana\n",
    "dataset.loc[dataset[\"Salário Anual\"] >= 2 * desvio_padrao]"
   ]
  },
  {
   "cell_type": "code",
   "execution_count": 119,
   "id": "a2b843d0-c88e-4069-9c38-dd48bc6ff85c",
   "metadata": {},
   "outputs": [
    {
     "data": {
      "text/html": [
       "<div>\n",
       "<style scoped>\n",
       "    .dataframe tbody tr th:only-of-type {\n",
       "        vertical-align: middle;\n",
       "    }\n",
       "\n",
       "    .dataframe tbody tr th {\n",
       "        vertical-align: top;\n",
       "    }\n",
       "\n",
       "    .dataframe thead th {\n",
       "        text-align: right;\n",
       "    }\n",
       "</style>\n",
       "<table border=\"1\" class=\"dataframe\">\n",
       "  <thead>\n",
       "    <tr style=\"text-align: right;\">\n",
       "      <th></th>\n",
       "      <th>id</th>\n",
       "      <th>Score</th>\n",
       "      <th>Estado</th>\n",
       "      <th>Gênero</th>\n",
       "      <th>Idade</th>\n",
       "      <th>Patrimônio</th>\n",
       "      <th>Saldo em Conta</th>\n",
       "      <th>Quantidade de Produtos do Branco Que Usa</th>\n",
       "      <th>Tem Cartão de Crédito</th>\n",
       "      <th>Conta Ativa</th>\n",
       "      <th>Salário Anual</th>\n",
       "      <th>Saiu</th>\n",
       "    </tr>\n",
       "  </thead>\n",
       "  <tbody>\n",
       "  </tbody>\n",
       "</table>\n",
       "</div>"
      ],
      "text/plain": [
       "Empty DataFrame\n",
       "Columns: [id, Score, Estado, Gênero, Idade, Patrimônio, Saldo em Conta, Quantidade de Produtos do Branco Que Usa, Tem Cartão de Crédito, Conta Ativa, Salário Anual, Saiu]\n",
       "Index: []"
      ]
     },
     "execution_count": 119,
     "metadata": {},
     "output_type": "execute_result"
    }
   ],
   "source": [
    "#Dados duplicados\n",
    "\n",
    "dataset.drop_duplicates(subset=\"id\", keep=\"first\", inplace=True)\n",
    "dataset[dataset.duplicated([\"id\"], keep=False)]"
   ]
  },
  {
   "cell_type": "code",
   "execution_count": 121,
   "id": "01dbdcfd-d04b-4c7e-956c-bed81f6a2bc5",
   "metadata": {},
   "outputs": [
    {
     "data": {
      "text/html": [
       "<div>\n",
       "<style scoped>\n",
       "    .dataframe tbody tr th:only-of-type {\n",
       "        vertical-align: middle;\n",
       "    }\n",
       "\n",
       "    .dataframe tbody tr th {\n",
       "        vertical-align: top;\n",
       "    }\n",
       "\n",
       "    .dataframe thead th {\n",
       "        text-align: right;\n",
       "    }\n",
       "</style>\n",
       "<table border=\"1\" class=\"dataframe\">\n",
       "  <thead>\n",
       "    <tr style=\"text-align: right;\">\n",
       "      <th></th>\n",
       "      <th>id</th>\n",
       "      <th>Score</th>\n",
       "      <th>Estado</th>\n",
       "      <th>Gênero</th>\n",
       "      <th>Idade</th>\n",
       "      <th>Patrimônio</th>\n",
       "      <th>Saldo em Conta</th>\n",
       "      <th>Quantidade de Produtos do Branco Que Usa</th>\n",
       "      <th>Tem Cartão de Crédito</th>\n",
       "      <th>Conta Ativa</th>\n",
       "      <th>Salário Anual</th>\n",
       "      <th>Saiu</th>\n",
       "    </tr>\n",
       "  </thead>\n",
       "  <tbody>\n",
       "    <tr>\n",
       "      <th>0</th>\n",
       "      <td>1</td>\n",
       "      <td>619</td>\n",
       "      <td>RS</td>\n",
       "      <td>Feminino</td>\n",
       "      <td>42</td>\n",
       "      <td>2</td>\n",
       "      <td>0</td>\n",
       "      <td>1</td>\n",
       "      <td>1</td>\n",
       "      <td>1</td>\n",
       "      <td>10134888.0</td>\n",
       "      <td>1</td>\n",
       "    </tr>\n",
       "    <tr>\n",
       "      <th>1</th>\n",
       "      <td>2</td>\n",
       "      <td>608</td>\n",
       "      <td>SC</td>\n",
       "      <td>Feminino</td>\n",
       "      <td>41</td>\n",
       "      <td>1</td>\n",
       "      <td>8380786</td>\n",
       "      <td>1</td>\n",
       "      <td>0</td>\n",
       "      <td>1</td>\n",
       "      <td>11254258.0</td>\n",
       "      <td>0</td>\n",
       "    </tr>\n",
       "    <tr>\n",
       "      <th>2</th>\n",
       "      <td>3</td>\n",
       "      <td>502</td>\n",
       "      <td>RS</td>\n",
       "      <td>Feminino</td>\n",
       "      <td>42</td>\n",
       "      <td>8</td>\n",
       "      <td>1596608</td>\n",
       "      <td>3</td>\n",
       "      <td>1</td>\n",
       "      <td>0</td>\n",
       "      <td>11393157.0</td>\n",
       "      <td>1</td>\n",
       "    </tr>\n",
       "    <tr>\n",
       "      <th>3</th>\n",
       "      <td>4</td>\n",
       "      <td>699</td>\n",
       "      <td>RS</td>\n",
       "      <td>Feminino</td>\n",
       "      <td>39</td>\n",
       "      <td>1</td>\n",
       "      <td>0</td>\n",
       "      <td>2</td>\n",
       "      <td>0</td>\n",
       "      <td>0</td>\n",
       "      <td>9382663.0</td>\n",
       "      <td>0</td>\n",
       "    </tr>\n",
       "    <tr>\n",
       "      <th>4</th>\n",
       "      <td>5</td>\n",
       "      <td>850</td>\n",
       "      <td>SC</td>\n",
       "      <td>Feminino</td>\n",
       "      <td>43</td>\n",
       "      <td>2</td>\n",
       "      <td>12551082</td>\n",
       "      <td>1</td>\n",
       "      <td>1</td>\n",
       "      <td>1</td>\n",
       "      <td>790841.0</td>\n",
       "      <td>0</td>\n",
       "    </tr>\n",
       "    <tr>\n",
       "      <th>5</th>\n",
       "      <td>6</td>\n",
       "      <td>645</td>\n",
       "      <td>SC</td>\n",
       "      <td>Masculino</td>\n",
       "      <td>44</td>\n",
       "      <td>8</td>\n",
       "      <td>11375578</td>\n",
       "      <td>2</td>\n",
       "      <td>1</td>\n",
       "      <td>0</td>\n",
       "      <td>14975671.0</td>\n",
       "      <td>1</td>\n",
       "    </tr>\n",
       "    <tr>\n",
       "      <th>6</th>\n",
       "      <td>7</td>\n",
       "      <td>822</td>\n",
       "      <td>RS</td>\n",
       "      <td>Masculino</td>\n",
       "      <td>50</td>\n",
       "      <td>7</td>\n",
       "      <td>0</td>\n",
       "      <td>2</td>\n",
       "      <td>1</td>\n",
       "      <td>1</td>\n",
       "      <td>100628.0</td>\n",
       "      <td>0</td>\n",
       "    </tr>\n",
       "    <tr>\n",
       "      <th>7</th>\n",
       "      <td>8</td>\n",
       "      <td>376</td>\n",
       "      <td>PR</td>\n",
       "      <td>Feminino</td>\n",
       "      <td>29</td>\n",
       "      <td>4</td>\n",
       "      <td>11504674</td>\n",
       "      <td>4</td>\n",
       "      <td>1</td>\n",
       "      <td>0</td>\n",
       "      <td>8641028.0</td>\n",
       "      <td>1</td>\n",
       "    </tr>\n",
       "    <tr>\n",
       "      <th>8</th>\n",
       "      <td>9</td>\n",
       "      <td>501</td>\n",
       "      <td>RS</td>\n",
       "      <td>Masculino</td>\n",
       "      <td>44</td>\n",
       "      <td>4</td>\n",
       "      <td>14205107</td>\n",
       "      <td>2</td>\n",
       "      <td>0</td>\n",
       "      <td>1</td>\n",
       "      <td>749405.0</td>\n",
       "      <td>0</td>\n",
       "    </tr>\n",
       "    <tr>\n",
       "      <th>9</th>\n",
       "      <td>10</td>\n",
       "      <td>684</td>\n",
       "      <td>RS</td>\n",
       "      <td>Masculino</td>\n",
       "      <td>27</td>\n",
       "      <td>2</td>\n",
       "      <td>13460388</td>\n",
       "      <td>1</td>\n",
       "      <td>1</td>\n",
       "      <td>1</td>\n",
       "      <td>7172573.0</td>\n",
       "      <td>0</td>\n",
       "    </tr>\n",
       "    <tr>\n",
       "      <th>10</th>\n",
       "      <td>11</td>\n",
       "      <td>528</td>\n",
       "      <td>RS</td>\n",
       "      <td>Masculino</td>\n",
       "      <td>31</td>\n",
       "      <td>6</td>\n",
       "      <td>10201672</td>\n",
       "      <td>2</td>\n",
       "      <td>0</td>\n",
       "      <td>0</td>\n",
       "      <td>8018112.0</td>\n",
       "      <td>0</td>\n",
       "    </tr>\n",
       "    <tr>\n",
       "      <th>11</th>\n",
       "      <td>12</td>\n",
       "      <td>497</td>\n",
       "      <td>SC</td>\n",
       "      <td>Masculino</td>\n",
       "      <td>24</td>\n",
       "      <td>3</td>\n",
       "      <td>0</td>\n",
       "      <td>2</td>\n",
       "      <td>1</td>\n",
       "      <td>0</td>\n",
       "      <td>7639001.0</td>\n",
       "      <td>0</td>\n",
       "    </tr>\n",
       "    <tr>\n",
       "      <th>12</th>\n",
       "      <td>13</td>\n",
       "      <td>476</td>\n",
       "      <td>RS</td>\n",
       "      <td>Feminino</td>\n",
       "      <td>34</td>\n",
       "      <td>10</td>\n",
       "      <td>0</td>\n",
       "      <td>2</td>\n",
       "      <td>1</td>\n",
       "      <td>0</td>\n",
       "      <td>2626098.0</td>\n",
       "      <td>0</td>\n",
       "    </tr>\n",
       "    <tr>\n",
       "      <th>13</th>\n",
       "      <td>14</td>\n",
       "      <td>549</td>\n",
       "      <td>RS</td>\n",
       "      <td>Feminino</td>\n",
       "      <td>25</td>\n",
       "      <td>5</td>\n",
       "      <td>0</td>\n",
       "      <td>2</td>\n",
       "      <td>0</td>\n",
       "      <td>0</td>\n",
       "      <td>19085779.0</td>\n",
       "      <td>0</td>\n",
       "    </tr>\n",
       "    <tr>\n",
       "      <th>14</th>\n",
       "      <td>15</td>\n",
       "      <td>635</td>\n",
       "      <td>SC</td>\n",
       "      <td>Feminino</td>\n",
       "      <td>35</td>\n",
       "      <td>7</td>\n",
       "      <td>0</td>\n",
       "      <td>2</td>\n",
       "      <td>1</td>\n",
       "      <td>1</td>\n",
       "      <td>6595165.0</td>\n",
       "      <td>0</td>\n",
       "    </tr>\n",
       "    <tr>\n",
       "      <th>15</th>\n",
       "      <td>16</td>\n",
       "      <td>616</td>\n",
       "      <td>PR</td>\n",
       "      <td>Masculino</td>\n",
       "      <td>45</td>\n",
       "      <td>3</td>\n",
       "      <td>14312941</td>\n",
       "      <td>2</td>\n",
       "      <td>0</td>\n",
       "      <td>1</td>\n",
       "      <td>6432726.0</td>\n",
       "      <td>0</td>\n",
       "    </tr>\n",
       "    <tr>\n",
       "      <th>16</th>\n",
       "      <td>17</td>\n",
       "      <td>653</td>\n",
       "      <td>PR</td>\n",
       "      <td>Masculino</td>\n",
       "      <td>58</td>\n",
       "      <td>1</td>\n",
       "      <td>13260288</td>\n",
       "      <td>1</td>\n",
       "      <td>1</td>\n",
       "      <td>0</td>\n",
       "      <td>509767.0</td>\n",
       "      <td>1</td>\n",
       "    </tr>\n",
       "    <tr>\n",
       "      <th>17</th>\n",
       "      <td>18</td>\n",
       "      <td>549</td>\n",
       "      <td>SC</td>\n",
       "      <td>Feminino</td>\n",
       "      <td>24</td>\n",
       "      <td>9</td>\n",
       "      <td>0</td>\n",
       "      <td>2</td>\n",
       "      <td>1</td>\n",
       "      <td>1</td>\n",
       "      <td>70518.0</td>\n",
       "      <td>0</td>\n",
       "    </tr>\n",
       "    <tr>\n",
       "      <th>18</th>\n",
       "      <td>19</td>\n",
       "      <td>587</td>\n",
       "      <td>SC</td>\n",
       "      <td>Masculino</td>\n",
       "      <td>45</td>\n",
       "      <td>6</td>\n",
       "      <td>0</td>\n",
       "      <td>1</td>\n",
       "      <td>0</td>\n",
       "      <td>0</td>\n",
       "      <td>15868481.0</td>\n",
       "      <td>0</td>\n",
       "    </tr>\n",
       "    <tr>\n",
       "      <th>19</th>\n",
       "      <td>20</td>\n",
       "      <td>726</td>\n",
       "      <td>RS</td>\n",
       "      <td>Feminino</td>\n",
       "      <td>24</td>\n",
       "      <td>6</td>\n",
       "      <td>0</td>\n",
       "      <td>2</td>\n",
       "      <td>1</td>\n",
       "      <td>1</td>\n",
       "      <td>5472403.0</td>\n",
       "      <td>0</td>\n",
       "    </tr>\n",
       "    <tr>\n",
       "      <th>20</th>\n",
       "      <td>21</td>\n",
       "      <td>732</td>\n",
       "      <td>RS</td>\n",
       "      <td>Masculino</td>\n",
       "      <td>41</td>\n",
       "      <td>8</td>\n",
       "      <td>0</td>\n",
       "      <td>2</td>\n",
       "      <td>1</td>\n",
       "      <td>1</td>\n",
       "      <td>17088617.0</td>\n",
       "      <td>0</td>\n",
       "    </tr>\n",
       "    <tr>\n",
       "      <th>21</th>\n",
       "      <td>22</td>\n",
       "      <td>636</td>\n",
       "      <td>SC</td>\n",
       "      <td>Feminino</td>\n",
       "      <td>32</td>\n",
       "      <td>8</td>\n",
       "      <td>0</td>\n",
       "      <td>2</td>\n",
       "      <td>1</td>\n",
       "      <td>0</td>\n",
       "      <td>13855546.0</td>\n",
       "      <td>0</td>\n",
       "    </tr>\n",
       "    <tr>\n",
       "      <th>22</th>\n",
       "      <td>23</td>\n",
       "      <td>510</td>\n",
       "      <td>RS</td>\n",
       "      <td>Feminino</td>\n",
       "      <td>38</td>\n",
       "      <td>4</td>\n",
       "      <td>0</td>\n",
       "      <td>1</td>\n",
       "      <td>1</td>\n",
       "      <td>0</td>\n",
       "      <td>11891353.0</td>\n",
       "      <td>1</td>\n",
       "    </tr>\n",
       "    <tr>\n",
       "      <th>23</th>\n",
       "      <td>24</td>\n",
       "      <td>669</td>\n",
       "      <td>RS</td>\n",
       "      <td>Masculino</td>\n",
       "      <td>46</td>\n",
       "      <td>3</td>\n",
       "      <td>0</td>\n",
       "      <td>2</td>\n",
       "      <td>0</td>\n",
       "      <td>1</td>\n",
       "      <td>848775.0</td>\n",
       "      <td>0</td>\n",
       "    </tr>\n",
       "    <tr>\n",
       "      <th>24</th>\n",
       "      <td>25</td>\n",
       "      <td>846</td>\n",
       "      <td>RS</td>\n",
       "      <td>Feminino</td>\n",
       "      <td>38</td>\n",
       "      <td>5</td>\n",
       "      <td>0</td>\n",
       "      <td>1</td>\n",
       "      <td>1</td>\n",
       "      <td>1</td>\n",
       "      <td>18761616.0</td>\n",
       "      <td>0</td>\n",
       "    </tr>\n",
       "    <tr>\n",
       "      <th>25</th>\n",
       "      <td>26</td>\n",
       "      <td>577</td>\n",
       "      <td>RS</td>\n",
       "      <td>Masculino</td>\n",
       "      <td>25</td>\n",
       "      <td>3</td>\n",
       "      <td>0</td>\n",
       "      <td>2</td>\n",
       "      <td>0</td>\n",
       "      <td>1</td>\n",
       "      <td>12450829.0</td>\n",
       "      <td>0</td>\n",
       "    </tr>\n",
       "    <tr>\n",
       "      <th>26</th>\n",
       "      <td>27</td>\n",
       "      <td>756</td>\n",
       "      <td>PR</td>\n",
       "      <td>Masculino</td>\n",
       "      <td>36</td>\n",
       "      <td>2</td>\n",
       "      <td>13681564</td>\n",
       "      <td>1</td>\n",
       "      <td>1</td>\n",
       "      <td>1</td>\n",
       "      <td>17004195.0</td>\n",
       "      <td>0</td>\n",
       "    </tr>\n",
       "    <tr>\n",
       "      <th>27</th>\n",
       "      <td>28</td>\n",
       "      <td>571</td>\n",
       "      <td>RS</td>\n",
       "      <td>Masculino</td>\n",
       "      <td>44</td>\n",
       "      <td>9</td>\n",
       "      <td>0</td>\n",
       "      <td>2</td>\n",
       "      <td>0</td>\n",
       "      <td>0</td>\n",
       "      <td>10000.0</td>\n",
       "      <td>0</td>\n",
       "    </tr>\n",
       "    <tr>\n",
       "      <th>28</th>\n",
       "      <td>29</td>\n",
       "      <td>574</td>\n",
       "      <td>RS</td>\n",
       "      <td>Feminino</td>\n",
       "      <td>43</td>\n",
       "      <td>3</td>\n",
       "      <td>14134943</td>\n",
       "      <td>1</td>\n",
       "      <td>1</td>\n",
       "      <td>1</td>\n",
       "      <td>10018743.0</td>\n",
       "      <td>0</td>\n",
       "    </tr>\n",
       "    <tr>\n",
       "      <th>29</th>\n",
       "      <td>30</td>\n",
       "      <td>411</td>\n",
       "      <td>RS</td>\n",
       "      <td>Masculino</td>\n",
       "      <td>29</td>\n",
       "      <td>0</td>\n",
       "      <td>5969717</td>\n",
       "      <td>2</td>\n",
       "      <td>1</td>\n",
       "      <td>1</td>\n",
       "      <td>5348321.0</td>\n",
       "      <td>0</td>\n",
       "    </tr>\n",
       "    <tr>\n",
       "      <th>30</th>\n",
       "      <td>31</td>\n",
       "      <td>591</td>\n",
       "      <td>SC</td>\n",
       "      <td>Feminino</td>\n",
       "      <td>39</td>\n",
       "      <td>3</td>\n",
       "      <td>0</td>\n",
       "      <td>3</td>\n",
       "      <td>1</td>\n",
       "      <td>0</td>\n",
       "      <td>14046938.0</td>\n",
       "      <td>1</td>\n",
       "    </tr>\n",
       "    <tr>\n",
       "      <th>31</th>\n",
       "      <td>32</td>\n",
       "      <td>533</td>\n",
       "      <td>RS</td>\n",
       "      <td>Masculino</td>\n",
       "      <td>36</td>\n",
       "      <td>7</td>\n",
       "      <td>853117</td>\n",
       "      <td>1</td>\n",
       "      <td>0</td>\n",
       "      <td>1</td>\n",
       "      <td>15673191.0</td>\n",
       "      <td>0</td>\n",
       "    </tr>\n",
       "    <tr>\n",
       "      <th>32</th>\n",
       "      <td>33</td>\n",
       "      <td>553</td>\n",
       "      <td>RS</td>\n",
       "      <td>Masculino</td>\n",
       "      <td>41</td>\n",
       "      <td>9</td>\n",
       "      <td>11011254</td>\n",
       "      <td>2</td>\n",
       "      <td>0</td>\n",
       "      <td>0</td>\n",
       "      <td>8189881.0</td>\n",
       "      <td>0</td>\n",
       "    </tr>\n",
       "    <tr>\n",
       "      <th>33</th>\n",
       "      <td>34</td>\n",
       "      <td>520</td>\n",
       "      <td>SC</td>\n",
       "      <td>Feminino</td>\n",
       "      <td>42</td>\n",
       "      <td>6</td>\n",
       "      <td>0</td>\n",
       "      <td>2</td>\n",
       "      <td>1</td>\n",
       "      <td>1</td>\n",
       "      <td>3441055.0</td>\n",
       "      <td>0</td>\n",
       "    </tr>\n",
       "    <tr>\n",
       "      <th>34</th>\n",
       "      <td>35</td>\n",
       "      <td>722</td>\n",
       "      <td>SC</td>\n",
       "      <td>Feminino</td>\n",
       "      <td>29</td>\n",
       "      <td>9</td>\n",
       "      <td>0</td>\n",
       "      <td>2</td>\n",
       "      <td>1</td>\n",
       "      <td>1</td>\n",
       "      <td>14203307.0</td>\n",
       "      <td>0</td>\n",
       "    </tr>\n",
       "    <tr>\n",
       "      <th>35</th>\n",
       "      <td>36</td>\n",
       "      <td>475</td>\n",
       "      <td>RS</td>\n",
       "      <td>Feminino</td>\n",
       "      <td>45</td>\n",
       "      <td>0</td>\n",
       "      <td>13426404</td>\n",
       "      <td>1</td>\n",
       "      <td>1</td>\n",
       "      <td>0</td>\n",
       "      <td>2782299.0</td>\n",
       "      <td>1</td>\n",
       "    </tr>\n",
       "    <tr>\n",
       "      <th>36</th>\n",
       "      <td>37</td>\n",
       "      <td>490</td>\n",
       "      <td>SC</td>\n",
       "      <td>Masculino</td>\n",
       "      <td>31</td>\n",
       "      <td>3</td>\n",
       "      <td>14526023</td>\n",
       "      <td>1</td>\n",
       "      <td>0</td>\n",
       "      <td>1</td>\n",
       "      <td>11406677.0</td>\n",
       "      <td>0</td>\n",
       "    </tr>\n",
       "    <tr>\n",
       "      <th>37</th>\n",
       "      <td>38</td>\n",
       "      <td>804</td>\n",
       "      <td>SC</td>\n",
       "      <td>Masculino</td>\n",
       "      <td>33</td>\n",
       "      <td>7</td>\n",
       "      <td>765486</td>\n",
       "      <td>1</td>\n",
       "      <td>0</td>\n",
       "      <td>1</td>\n",
       "      <td>9845345.0</td>\n",
       "      <td>0</td>\n",
       "    </tr>\n",
       "    <tr>\n",
       "      <th>38</th>\n",
       "      <td>39</td>\n",
       "      <td>850</td>\n",
       "      <td>RS</td>\n",
       "      <td>Masculino</td>\n",
       "      <td>36</td>\n",
       "      <td>7</td>\n",
       "      <td>0</td>\n",
       "      <td>1</td>\n",
       "      <td>1</td>\n",
       "      <td>1</td>\n",
       "      <td>408129.0</td>\n",
       "      <td>0</td>\n",
       "    </tr>\n",
       "    <tr>\n",
       "      <th>39</th>\n",
       "      <td>40</td>\n",
       "      <td>582</td>\n",
       "      <td>PR</td>\n",
       "      <td>Masculino</td>\n",
       "      <td>41</td>\n",
       "      <td>6</td>\n",
       "      <td>7034948</td>\n",
       "      <td>2</td>\n",
       "      <td>0</td>\n",
       "      <td>1</td>\n",
       "      <td>17807404.0</td>\n",
       "      <td>0</td>\n",
       "    </tr>\n",
       "    <tr>\n",
       "      <th>40</th>\n",
       "      <td>41</td>\n",
       "      <td>472</td>\n",
       "      <td>SC</td>\n",
       "      <td>Masculino</td>\n",
       "      <td>40</td>\n",
       "      <td>4</td>\n",
       "      <td>0</td>\n",
       "      <td>1</td>\n",
       "      <td>1</td>\n",
       "      <td>0</td>\n",
       "      <td>7015422.0</td>\n",
       "      <td>0</td>\n",
       "    </tr>\n",
       "    <tr>\n",
       "      <th>41</th>\n",
       "      <td>42</td>\n",
       "      <td>465</td>\n",
       "      <td>RS</td>\n",
       "      <td>Feminino</td>\n",
       "      <td>51</td>\n",
       "      <td>8</td>\n",
       "      <td>12252232</td>\n",
       "      <td>1</td>\n",
       "      <td>0</td>\n",
       "      <td>0</td>\n",
       "      <td>18129765.0</td>\n",
       "      <td>1</td>\n",
       "    </tr>\n",
       "    <tr>\n",
       "      <th>42</th>\n",
       "      <td>43</td>\n",
       "      <td>556</td>\n",
       "      <td>RS</td>\n",
       "      <td>Feminino</td>\n",
       "      <td>61</td>\n",
       "      <td>2</td>\n",
       "      <td>11741935</td>\n",
       "      <td>1</td>\n",
       "      <td>1</td>\n",
       "      <td>1</td>\n",
       "      <td>9415383.0</td>\n",
       "      <td>0</td>\n",
       "    </tr>\n",
       "    <tr>\n",
       "      <th>43</th>\n",
       "      <td>44</td>\n",
       "      <td>834</td>\n",
       "      <td>RS</td>\n",
       "      <td>Feminino</td>\n",
       "      <td>49</td>\n",
       "      <td>2</td>\n",
       "      <td>13139456</td>\n",
       "      <td>1</td>\n",
       "      <td>0</td>\n",
       "      <td>0</td>\n",
       "      <td>19436576.0</td>\n",
       "      <td>1</td>\n",
       "    </tr>\n",
       "    <tr>\n",
       "      <th>44</th>\n",
       "      <td>45</td>\n",
       "      <td>660</td>\n",
       "      <td>SC</td>\n",
       "      <td>Feminino</td>\n",
       "      <td>61</td>\n",
       "      <td>5</td>\n",
       "      <td>15593111</td>\n",
       "      <td>1</td>\n",
       "      <td>1</td>\n",
       "      <td>1</td>\n",
       "      <td>15833839.0</td>\n",
       "      <td>0</td>\n",
       "    </tr>\n",
       "    <tr>\n",
       "      <th>45</th>\n",
       "      <td>46</td>\n",
       "      <td>776</td>\n",
       "      <td>PR</td>\n",
       "      <td>Feminino</td>\n",
       "      <td>32</td>\n",
       "      <td>4</td>\n",
       "      <td>10942113</td>\n",
       "      <td>2</td>\n",
       "      <td>1</td>\n",
       "      <td>1</td>\n",
       "      <td>12651746.0</td>\n",
       "      <td>0</td>\n",
       "    </tr>\n",
       "    <tr>\n",
       "      <th>46</th>\n",
       "      <td>47</td>\n",
       "      <td>829</td>\n",
       "      <td>PR</td>\n",
       "      <td>Feminino</td>\n",
       "      <td>27</td>\n",
       "      <td>9</td>\n",
       "      <td>11204567</td>\n",
       "      <td>1</td>\n",
       "      <td>1</td>\n",
       "      <td>1</td>\n",
       "      <td>11970821.0</td>\n",
       "      <td>1</td>\n",
       "    </tr>\n",
       "    <tr>\n",
       "      <th>47</th>\n",
       "      <td>48</td>\n",
       "      <td>637</td>\n",
       "      <td>PR</td>\n",
       "      <td>Feminino</td>\n",
       "      <td>39</td>\n",
       "      <td>9</td>\n",
       "      <td>1378438</td>\n",
       "      <td>1</td>\n",
       "      <td>1</td>\n",
       "      <td>1</td>\n",
       "      <td>1176228.0</td>\n",
       "      <td>1</td>\n",
       "    </tr>\n",
       "    <tr>\n",
       "      <th>48</th>\n",
       "      <td>49</td>\n",
       "      <td>550</td>\n",
       "      <td>PR</td>\n",
       "      <td>Masculino</td>\n",
       "      <td>38</td>\n",
       "      <td>2</td>\n",
       "      <td>10339138</td>\n",
       "      <td>1</td>\n",
       "      <td>0</td>\n",
       "      <td>1</td>\n",
       "      <td>9087813.0</td>\n",
       "      <td>0</td>\n",
       "    </tr>\n",
       "    <tr>\n",
       "      <th>49</th>\n",
       "      <td>50</td>\n",
       "      <td>776</td>\n",
       "      <td>PR</td>\n",
       "      <td>Feminino</td>\n",
       "      <td>37</td>\n",
       "      <td>2</td>\n",
       "      <td>10376922</td>\n",
       "      <td>2</td>\n",
       "      <td>1</td>\n",
       "      <td>0</td>\n",
       "      <td>19409912.0</td>\n",
       "      <td>0</td>\n",
       "    </tr>\n",
       "  </tbody>\n",
       "</table>\n",
       "</div>"
      ],
      "text/plain": [
       "    id  Score Estado     Gênero  Idade  Patrimônio  Saldo em Conta  \\\n",
       "0    1    619     RS   Feminino     42           2               0   \n",
       "1    2    608     SC   Feminino     41           1         8380786   \n",
       "2    3    502     RS   Feminino     42           8         1596608   \n",
       "3    4    699     RS   Feminino     39           1               0   \n",
       "4    5    850     SC   Feminino     43           2        12551082   \n",
       "5    6    645     SC  Masculino     44           8        11375578   \n",
       "6    7    822     RS  Masculino     50           7               0   \n",
       "7    8    376     PR   Feminino     29           4        11504674   \n",
       "8    9    501     RS  Masculino     44           4        14205107   \n",
       "9   10    684     RS  Masculino     27           2        13460388   \n",
       "10  11    528     RS  Masculino     31           6        10201672   \n",
       "11  12    497     SC  Masculino     24           3               0   \n",
       "12  13    476     RS   Feminino     34          10               0   \n",
       "13  14    549     RS   Feminino     25           5               0   \n",
       "14  15    635     SC   Feminino     35           7               0   \n",
       "15  16    616     PR  Masculino     45           3        14312941   \n",
       "16  17    653     PR  Masculino     58           1        13260288   \n",
       "17  18    549     SC   Feminino     24           9               0   \n",
       "18  19    587     SC  Masculino     45           6               0   \n",
       "19  20    726     RS   Feminino     24           6               0   \n",
       "20  21    732     RS  Masculino     41           8               0   \n",
       "21  22    636     SC   Feminino     32           8               0   \n",
       "22  23    510     RS   Feminino     38           4               0   \n",
       "23  24    669     RS  Masculino     46           3               0   \n",
       "24  25    846     RS   Feminino     38           5               0   \n",
       "25  26    577     RS  Masculino     25           3               0   \n",
       "26  27    756     PR  Masculino     36           2        13681564   \n",
       "27  28    571     RS  Masculino     44           9               0   \n",
       "28  29    574     RS   Feminino     43           3        14134943   \n",
       "29  30    411     RS  Masculino     29           0         5969717   \n",
       "30  31    591     SC   Feminino     39           3               0   \n",
       "31  32    533     RS  Masculino     36           7          853117   \n",
       "32  33    553     RS  Masculino     41           9        11011254   \n",
       "33  34    520     SC   Feminino     42           6               0   \n",
       "34  35    722     SC   Feminino     29           9               0   \n",
       "35  36    475     RS   Feminino     45           0        13426404   \n",
       "36  37    490     SC  Masculino     31           3        14526023   \n",
       "37  38    804     SC  Masculino     33           7          765486   \n",
       "38  39    850     RS  Masculino     36           7               0   \n",
       "39  40    582     PR  Masculino     41           6         7034948   \n",
       "40  41    472     SC  Masculino     40           4               0   \n",
       "41  42    465     RS   Feminino     51           8        12252232   \n",
       "42  43    556     RS   Feminino     61           2        11741935   \n",
       "43  44    834     RS   Feminino     49           2        13139456   \n",
       "44  45    660     SC   Feminino     61           5        15593111   \n",
       "45  46    776     PR   Feminino     32           4        10942113   \n",
       "46  47    829     PR   Feminino     27           9        11204567   \n",
       "47  48    637     PR   Feminino     39           9         1378438   \n",
       "48  49    550     PR  Masculino     38           2        10339138   \n",
       "49  50    776     PR   Feminino     37           2        10376922   \n",
       "\n",
       "    Quantidade de Produtos do Branco Que Usa  Tem Cartão de Crédito  \\\n",
       "0                                          1                      1   \n",
       "1                                          1                      0   \n",
       "2                                          3                      1   \n",
       "3                                          2                      0   \n",
       "4                                          1                      1   \n",
       "5                                          2                      1   \n",
       "6                                          2                      1   \n",
       "7                                          4                      1   \n",
       "8                                          2                      0   \n",
       "9                                          1                      1   \n",
       "10                                         2                      0   \n",
       "11                                         2                      1   \n",
       "12                                         2                      1   \n",
       "13                                         2                      0   \n",
       "14                                         2                      1   \n",
       "15                                         2                      0   \n",
       "16                                         1                      1   \n",
       "17                                         2                      1   \n",
       "18                                         1                      0   \n",
       "19                                         2                      1   \n",
       "20                                         2                      1   \n",
       "21                                         2                      1   \n",
       "22                                         1                      1   \n",
       "23                                         2                      0   \n",
       "24                                         1                      1   \n",
       "25                                         2                      0   \n",
       "26                                         1                      1   \n",
       "27                                         2                      0   \n",
       "28                                         1                      1   \n",
       "29                                         2                      1   \n",
       "30                                         3                      1   \n",
       "31                                         1                      0   \n",
       "32                                         2                      0   \n",
       "33                                         2                      1   \n",
       "34                                         2                      1   \n",
       "35                                         1                      1   \n",
       "36                                         1                      0   \n",
       "37                                         1                      0   \n",
       "38                                         1                      1   \n",
       "39                                         2                      0   \n",
       "40                                         1                      1   \n",
       "41                                         1                      0   \n",
       "42                                         1                      1   \n",
       "43                                         1                      0   \n",
       "44                                         1                      1   \n",
       "45                                         2                      1   \n",
       "46                                         1                      1   \n",
       "47                                         1                      1   \n",
       "48                                         1                      0   \n",
       "49                                         2                      1   \n",
       "\n",
       "    Conta Ativa  Salário Anual  Saiu  \n",
       "0             1     10134888.0     1  \n",
       "1             1     11254258.0     0  \n",
       "2             0     11393157.0     1  \n",
       "3             0      9382663.0     0  \n",
       "4             1       790841.0     0  \n",
       "5             0     14975671.0     1  \n",
       "6             1       100628.0     0  \n",
       "7             0      8641028.0     1  \n",
       "8             1       749405.0     0  \n",
       "9             1      7172573.0     0  \n",
       "10            0      8018112.0     0  \n",
       "11            0      7639001.0     0  \n",
       "12            0      2626098.0     0  \n",
       "13            0     19085779.0     0  \n",
       "14            1      6595165.0     0  \n",
       "15            1      6432726.0     0  \n",
       "16            0       509767.0     1  \n",
       "17            1        70518.0     0  \n",
       "18            0     15868481.0     0  \n",
       "19            1      5472403.0     0  \n",
       "20            1     17088617.0     0  \n",
       "21            0     13855546.0     0  \n",
       "22            0     11891353.0     1  \n",
       "23            1       848775.0     0  \n",
       "24            1     18761616.0     0  \n",
       "25            1     12450829.0     0  \n",
       "26            1     17004195.0     0  \n",
       "27            0        10000.0     0  \n",
       "28            1     10018743.0     0  \n",
       "29            1      5348321.0     0  \n",
       "30            0     14046938.0     1  \n",
       "31            1     15673191.0     0  \n",
       "32            0      8189881.0     0  \n",
       "33            1      3441055.0     0  \n",
       "34            1     14203307.0     0  \n",
       "35            0      2782299.0     1  \n",
       "36            1     11406677.0     0  \n",
       "37            1      9845345.0     0  \n",
       "38            1       408129.0     0  \n",
       "39            1     17807404.0     0  \n",
       "40            0      7015422.0     0  \n",
       "41            0     18129765.0     1  \n",
       "42            1      9415383.0     0  \n",
       "43            0     19436576.0     1  \n",
       "44            1     15833839.0     0  \n",
       "45            1     12651746.0     0  \n",
       "46            1     11970821.0     1  \n",
       "47            1      1176228.0     1  \n",
       "48            1      9087813.0     0  \n",
       "49            0     19409912.0     0  "
      ]
     },
     "execution_count": 121,
     "metadata": {},
     "output_type": "execute_result"
    }
   ],
   "source": [
    "dataset.head(50)"
   ]
  },
  {
   "cell_type": "code",
   "execution_count": 123,
   "id": "f4d86f9d-f208-4b65-b085-d2af5bf4de6c",
   "metadata": {},
   "outputs": [
    {
     "data": {
      "text/plain": [
       "(998, 12)"
      ]
     },
     "execution_count": 123,
     "metadata": {},
     "output_type": "execute_result"
    }
   ],
   "source": [
    "dataset.shape"
   ]
  },
  {
   "cell_type": "code",
   "execution_count": null,
   "id": "8f57a28e-455d-4923-a497-26caa67668dd",
   "metadata": {},
   "outputs": [],
   "source": []
  }
 ],
 "metadata": {
  "kernelspec": {
   "display_name": "Python 3 (ipykernel)",
   "language": "python",
   "name": "python3"
  },
  "language_info": {
   "codemirror_mode": {
    "name": "ipython",
    "version": 3
   },
   "file_extension": ".py",
   "mimetype": "text/x-python",
   "name": "python",
   "nbconvert_exporter": "python",
   "pygments_lexer": "ipython3",
   "version": "3.11.7"
  }
 },
 "nbformat": 4,
 "nbformat_minor": 5
}
